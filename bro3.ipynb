{
 "cells": [
  {
   "cell_type": "code",
   "execution_count": 1,
   "metadata": {},
   "outputs": [
    {
     "ename": "NameError",
     "evalue": "name 'stream' is not defined",
     "output_type": "error",
     "traceback": [
      "\u001b[1;31m---------------------------------------------------------------------------\u001b[0m",
      "\u001b[1;31mNameError\u001b[0m                                 Traceback (most recent call last)",
      "\u001b[1;32mc:\\Users\\User\\Desktop\\vPython\\bro3.ipynb Cell 1'\u001b[0m in \u001b[0;36m<cell line: 4>\u001b[1;34m()\u001b[0m\n\u001b[0;32m      <a href='vscode-notebook-cell:/c%3A/Users/User/Desktop/vPython/bro3.ipynb#ch0000003?line=1'>2</a>\u001b[0m t \u001b[39m=\u001b[39m turtle\u001b[39m.\u001b[39mTurtle()\n\u001b[0;32m      <a href='vscode-notebook-cell:/c%3A/Users/User/Desktop/vPython/bro3.ipynb#ch0000003?line=2'>3</a>\u001b[0m t\u001b[39m.\u001b[39mwrite(\u001b[39m\"\u001b[39m\u001b[39mnonfd\u001b[39m\u001b[39m\"\u001b[39m)\n\u001b[1;32m----> <a href='vscode-notebook-cell:/c%3A/Users/User/Desktop/vPython/bro3.ipynb#ch0000003?line=3'>4</a>\u001b[0m \u001b[39mawait\u001b[39;00m stream\u001b[39m.\u001b[39mdrain()\n\u001b[0;32m      <a href='vscode-notebook-cell:/c%3A/Users/User/Desktop/vPython/bro3.ipynb#ch0000003?line=4'>5</a>\u001b[0m t\u001b[39m.\u001b[39mdone()\n",
      "\u001b[1;31mNameError\u001b[0m: name 'stream' is not defined"
     ]
    }
   ],
   "source": [
    "print(\"\"\"'ImportError: an import fails;\n",
    "IndexError: a list is indexed with an out-of-range number;\n",
    "NameError: an unknown variable is used;\n",
    "SyntaxError: the code can't be parsed properly;\n",
    "TypeError: a function is called on a value of an inappropriate type;\n",
    "ValueError: a function is called on a value of the correct type, but with an inappropriate value.'\"\"\")"
   ]
  }
 ],
 "metadata": {
  "interpreter": {
   "hash": "aecd030d4c8316a52bf122072e28f84bcc79844c2684e041fef2e3f1d9f59078"
  },
  "kernelspec": {
   "display_name": "Python 3.10.2 64-bit",
   "language": "python",
   "name": "python3"
  },
  "language_info": {
   "codemirror_mode": {
    "name": "ipython",
    "version": 3
   },
   "file_extension": ".py",
   "mimetype": "text/x-python",
   "name": "python",
   "nbconvert_exporter": "python",
   "pygments_lexer": "ipython3",
   "version": "3.10.2"
  },
  "orig_nbformat": 4
 },
 "nbformat": 4,
 "nbformat_minor": 2
}
